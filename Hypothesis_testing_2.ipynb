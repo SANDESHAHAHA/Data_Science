{
  "nbformat": 4,
  "nbformat_minor": 0,
  "metadata": {
    "colab": {
      "provenance": [],
      "authorship_tag": "ABX9TyNxnitW95T65q3L+e8Dm57I",
      "include_colab_link": true
    },
    "kernelspec": {
      "name": "python3",
      "display_name": "Python 3"
    },
    "language_info": {
      "name": "python"
    }
  },
  "cells": [
    {
      "cell_type": "markdown",
      "metadata": {
        "id": "view-in-github",
        "colab_type": "text"
      },
      "source": [
        "<a href=\"https://colab.research.google.com/github/SANDESHAHAHA/Data_Science/blob/main/Hypothesis_testing_2.ipynb\" target=\"_parent\"><img src=\"https://colab.research.google.com/assets/colab-badge.svg\" alt=\"Open In Colab\"/></a>"
      ]
    },
    {
      "cell_type": "markdown",
      "source": [
        "# **Hyptothesis  Testing**"
      ],
      "metadata": {
        "id": "fuKDfznx0-cS"
      }
    },
    {
      "cell_type": "code",
      "source": [
        "import numpy as np\n",
        "import pandas as pd\n",
        "from scipy import stats\n"
      ],
      "metadata": {
        "id": "CKIZKVuo1ftP"
      },
      "execution_count": null,
      "outputs": []
    },
    {
      "cell_type": "markdown",
      "source": [
        "# **Z test with one mean**\n",
        "\n",
        "> Add blockquote\n",
        "\n",
        "\n",
        "Suppose an e-commerce platform receives an average of 150 visitors per day (known population mean). We want to test if the average number of visitors for a recent sample of 40 days is significantly different from this known average. Verify the claim at significance level alpha = 0.05."
      ],
      "metadata": {
        "id": "kKtB9z3019xM"
      }
    },
    {
      "cell_type": "markdown",
      "source": [],
      "metadata": {
        "id": "qqbqBUqH1ENm"
      }
    },
    {
      "cell_type": "code",
      "source": [
        "#Given data\n",
        "pop_mean=150\n",
        "pop_sd=20\n",
        "visitors =[159,154,154,130,189,170,200,100,140,169,167,159,170,190,147]\n",
        "#calculate the sample mean and size\n",
        "sample_mean=np.mean(visitors)\n",
        "sample_size=len(visitors)\n",
        "print(sample_size)\n",
        "\n",
        "# Calculate z-score\n",
        "z_score_calculated=(sample_mean-pop_mean)/(pop_sd/np.sqrt(sample_size))\n",
        "\n",
        "#Find the critical z-value for a two tailed test at alpha 0.05 using scipy\n",
        "alpha=0.05\n",
        "z_critical= stats.norm.ppf(1-alpha/2)\n",
        "\n",
        "#print the results\n",
        "print(f\"Z-score calculated is: {z_score_calculated}\")\n",
        "print(f\"z_score critical is:±{z_critical}\")\n",
        "\n",
        "if z_score_calculated > z_critical or z_score_calculated < -z_critical:\n",
        "  print(\"Reject the null hypothesis. The sample mean is significantly different from the population mean\")\n",
        "else:\n",
        "  print(\"Conclusion: Fail to reject the null hypothesis. So, the sample mean is not significantly different from the population mean\")"
      ],
      "metadata": {
        "colab": {
          "base_uri": "https://localhost:8080/"
        },
        "id": "1ajNIDsJ2J3M",
        "outputId": "aa9efba8-57e1-4a83-e6c4-9c5ca7b34999"
      },
      "execution_count": null,
      "outputs": [
        {
          "output_type": "stream",
          "name": "stdout",
          "text": [
            "15\n",
            "Z-score calculated is: 1.9106717841289937\n",
            "z_score critical is:±1.959963984540054\n",
            "Conclusion: The sample mean is equal to the population mean . So, average of 150 customers comes all day to the store\n"
          ]
        }
      ]
    },
    {
      "cell_type": "code",
      "source": [
        "# define the significance level\n",
        "alpha =0.05\n",
        "# Z critical value for a right-tailed test\n",
        "z_critical_right = stats.norm.ppf(1-alpha)\n",
        "#Z critical value for a left-tailed test\n",
        "z_critical_left=stats.norm.ppf(alpha)\n",
        "#Z critical value of a two tailed test\n",
        "z_critical_twotail=stats.norm.ppf(1-alpha/2)\n",
        "\n",
        "#The critical values achieved from the above tests are:\n",
        "print(f\"Z-critical value for a right-tailed test is: {z_critical_right}\")\n",
        "print(f\"Z-critical value for a left-tailed test is: {z_critical_left}\")\n",
        "print(f\"Z-critical value for a two tailed test is: {z_critical_twotail}\")\n"
      ],
      "metadata": {
        "colab": {
          "base_uri": "https://localhost:8080/"
        },
        "id": "wuZIUski4A0A",
        "outputId": "940a708d-24a7-4f62-c5a1-997156dd8bd1"
      },
      "execution_count": null,
      "outputs": [
        {
          "output_type": "stream",
          "name": "stdout",
          "text": [
            "Z-critical value for a right-tailed test is: 1.6448536269514722\n",
            "Z-critical value for a left-tailed test is: -1.6448536269514729\n",
            "Z-critical value for a two tailed test is: 1.959963984540054\n"
          ]
        }
      ]
    },
    {
      "cell_type": "markdown",
      "source": [
        "#**Z-test with two mean**"
      ],
      "metadata": {
        "id": "q-B2o3aL6tcv"
      }
    },
    {
      "cell_type": "code",
      "source": [],
      "metadata": {
        "id": "wrCpAt6q-IYx"
      },
      "execution_count": null,
      "outputs": []
    },
    {
      "cell_type": "code",
      "source": [
        "campaign1_data=np.random.randint(140,200,size=20,)\n",
        "n1=len(campaign1_data)\n",
        "campaign2_data=np.random.randint(140,200,size=20,)\n",
        "n2=len(campaign2_data)\n",
        "\n",
        "camp1_std=np.std(campaign1_data)\n",
        "camp2_std=np.std(campaign2_data)\n",
        "\n",
        "camp1_mean=np.mean(campaign1_data)\n",
        "camp2_mean=np.mean(campaign2_data)\n",
        "\n",
        "z_score_calculated= (camp1_mean-camp2_mean)/np.sqrt((camp1_std**2/n1)+(camp2_std**2/n2))\n",
        "alpha=0.05\n",
        "z_critical=stats.norm.ppf(1-alpha/2)\n",
        "\n",
        "print(f\"Z-score calculated is: {z_score_calculated}\")\n",
        "print(f\"z_score critical is:±{z_critical}\")\n",
        "print(f\"Campaign1 Mean is: {camp1_mean}\")\n",
        "print(f\"Campaign2 Mean is: {camp2_mean}\")\n",
        "\n",
        "print(f\"Campaign1 standard deviation is:{camp1_std}\")\n",
        "print(f\"Campaign2 standard deviation is:{camp2_std}\")\n",
        "\n",
        "if z_score_calculated > z_critical or z_score_calculated < -z_critical:\n",
        "  print(\"Reject the null hypothesis. The sample mean is significantly different from the population mean\")\n",
        "else:\n",
        "  print(\"Fail to reject the null hypothesis: There is no significant difference in the average number of daily visitors between the two campaign \")"
      ],
      "metadata": {
        "colab": {
          "base_uri": "https://localhost:8080/"
        },
        "id": "_-MXLFsH8lxk",
        "outputId": "51d625ae-a40c-4aad-d8a9-723f538a566b"
      },
      "execution_count": null,
      "outputs": [
        {
          "output_type": "stream",
          "name": "stdout",
          "text": [
            "Z-score calculated is: -0.2963469559284907\n",
            "z_score critical is:±1.959963984540054\n",
            "Campaign1 Mean is: 165.8\n",
            "Campaign2 Mean is: 167.45\n",
            "Campaign1 standard deviation is:15.305554547287725\n",
            "Campaign2 standard deviation is:19.640455697360995\n",
            "Fail to reject the null hypothesis: There is no significant difference in the average number of daily visitors between the two campaign \n"
          ]
        }
      ]
    },
    {
      "cell_type": "markdown",
      "source": [
        "#**T-test with single mean**"
      ],
      "metadata": {
        "id": "GUXdz0AruINB"
      }
    },
    {
      "cell_type": "markdown",
      "source": [
        " An eComm platform believes that the average number of daily visitors is 150. Test if the average number of visitors for a sample of 30 days is significantly different from this value."
      ],
      "metadata": {
        "id": "Xab3GDqOxQTj"
      }
    },
    {
      "cell_type": "code",
      "source": [
        "#Number of visitors for 30 days\n",
        "visitors=np.random.randint(130,200,size=30)\n",
        "pop_mean=150\n",
        "sample_mean=np.mean(visitors)\n",
        "sample_size=len(visitors)\n",
        "sample_std=np.std(visitors,ddof=1)\n",
        "#ddof =1 tells numpy to use n-1 when calculating the standard deviation ,we use ddof=0 for pop standarad deviation\n",
        "#Calculate the t-score\n",
        "t_score_calculated,_=stats.ttest_1samp(visitors,popmean=pop_mean)\n",
        "#Note : in python when a function returns multiple values and you are not interested in\n",
        "#all of then , you can use _ to ignore the values that you don't need . It is a\n",
        "#convention to indicate that the value is deliberately being discared\n",
        "alpha =0.05\n",
        "df=sample_size-1\n",
        "t_critical=stats.t.ppf(1-alpha/2,df)\n",
        "\n",
        "print(f\"T-score calculated is: {t_score_calculated}\")\n",
        "print(f\"T-score critical is:±{t_critical}\")\n",
        "print(f\"Sample mean is: {sample_mean}\")\n",
        "print(f\"Sample standard deviation is: {sample_std}\")\n",
        "\n",
        "#Conclusion\n",
        "if abs(t_score_calculated) > abs(t_critical):\n",
        "  print(\"Reject the null hypothesis. The sample mean is significantly different from the population mean\")\n",
        "else:\n",
        "  print(\"Fail to reject the null hypothesis. The sample mean is no signifantly different from the population mean\")\n",
        "\n"
      ],
      "metadata": {
        "colab": {
          "base_uri": "https://localhost:8080/"
        },
        "id": "dw5gYn_6uLSr",
        "outputId": "171b0ee8-0a17-42f0-cc80-6d5abd3ae9f4"
      },
      "execution_count": null,
      "outputs": [
        {
          "output_type": "stream",
          "name": "stdout",
          "text": [
            "T-score calculated is: 3.1954710110804276\n",
            "T-score critical is:±2.045229642132703\n",
            "Sample mean is: 163.46666666666667\n",
            "Sample standard deviation is: 23.08266005906379\n",
            "Reject the null hypothesis. The sample mean is significantly different from the population mean\n"
          ]
        }
      ]
    },
    {
      "cell_type": "markdown",
      "source": [],
      "metadata": {
        "id": "9At-ueiRukPh"
      }
    },
    {
      "cell_type": "markdown",
      "source": [
        "\n",
        "\n",
        "> Add blockquote\n",
        "#**T test with Two sample mean**\n"
      ],
      "metadata": {
        "id": "9_DFJ_jhyBXG"
      }
    },
    {
      "cell_type": "code",
      "source": [
        "#data\n",
        "data={\n",
        "    'Gender':['Female', 'Male', 'Female', 'Female', 'Male', 'Male', 'Male', 'Male', 'Female', 'Female', 'Male', 'Male',\n",
        "               'Female', 'Male', 'Female', 'Female', 'Female', 'Male', 'Male', 'Female', 'Female', 'Male', 'Male', 'Male',\n",
        "               'Male', 'Female', 'Female', 'Male', 'Male', 'Male'],\n",
        "    'Height':[176.54, 180.32, 150.74, 193.27, 161.84, 170.35, 158.27, 184.65, 190.14, 166.98,\n",
        "    161.46, 179.11, 182.97, 186.54, 180.21, 153.22, 169.77, 174.89, 181.56, 192.64,\n",
        "    163.45, 170.13, 161.92, 173.89, 169.23, 187.45, 190.56, 164.28, 156.83, 178.99]\n",
        "}\n",
        "l1=len(data['Gender'])\n",
        "l2=len(data['Height'])\n",
        "#create dataframe\n",
        "df=pd.DataFrame(data)\n",
        "print(df)\n",
        "\n",
        "#separate the data into two groups\n",
        "male_height=df[df['Gender']=='Male']['Height']\n",
        "female_height=df[df['Gender']=='Female']['Height']\n",
        "print(male_height)\n",
        "print(female_height)\n",
        "mean_male=np.mean(male_height)\n",
        "mean_female=np.mean(female_height)\n",
        "std_male=np.std(male_height,ddof=1)\n",
        "std_female=np.std(female_height,ddof=1)\n",
        "n_male=len(male_height)\n",
        "n_female=len(female_height)\n",
        "pooled_variance=((n_male-1)*std_male**2+(n_female-1)*std_female**2)/(n_male+n_female-2)\n",
        "t_score_calculated= (mean_male-mean_female)/np.sqrt((pooled_variance/n_male)+(pooled_variance/n_female))\n",
        "df=n_male+n_female-2\n",
        "alpha=0.05\n",
        "t_critical=stats.t.ppf(1-alpha/2,df)\n",
        "#display results\n",
        "print(f\"T-score calculated is: {t_score_calculated}\")\n",
        "print(f\"T-score critical is:±{t_critical}\")\n",
        "print(f\"Mean of male height is: {mean_male}\")\n",
        "print(f\"Mean of female height is: {mean_female}\")\n",
        "print(f\"Standard deviation of male height is: {std_male}\")\n",
        "print(f\"Standard deviation of female height is: {std_female}\")\n",
        "#conclusion\n",
        "if abs(t_score_calculated) > abs(t_critical):\n",
        "  print(\"Reject the null hypothesis. The sample mean is significantly different from the population mean\")\n",
        "else:\n",
        "  print(\"Fail to reject the null hypothesis. The sample mean is no signifantly different from the population mean\")\n",
        "\n"
      ],
      "metadata": {
        "colab": {
          "base_uri": "https://localhost:8080/"
        },
        "id": "OwaFQaGnyFyA",
        "outputId": "182f6fb9-1b3d-4c72-ca19-01e4d70cafd6"
      },
      "execution_count": null,
      "outputs": [
        {
          "output_type": "stream",
          "name": "stdout",
          "text": [
            "    Gender  Height\n",
            "0   Female  176.54\n",
            "1     Male  180.32\n",
            "2   Female  150.74\n",
            "3   Female  193.27\n",
            "4     Male  161.84\n",
            "5     Male  170.35\n",
            "6     Male  158.27\n",
            "7     Male  184.65\n",
            "8   Female  190.14\n",
            "9   Female  166.98\n",
            "10    Male  161.46\n",
            "11    Male  179.11\n",
            "12  Female  182.97\n",
            "13    Male  186.54\n",
            "14  Female  180.21\n",
            "15  Female  153.22\n",
            "16  Female  169.77\n",
            "17    Male  174.89\n",
            "18    Male  181.56\n",
            "19  Female  192.64\n",
            "20  Female  163.45\n",
            "21    Male  170.13\n",
            "22    Male  161.92\n",
            "23    Male  173.89\n",
            "24    Male  169.23\n",
            "25  Female  187.45\n",
            "26  Female  190.56\n",
            "27    Male  164.28\n",
            "28    Male  156.83\n",
            "29    Male  178.99\n",
            "1     180.32\n",
            "4     161.84\n",
            "5     170.35\n",
            "6     158.27\n",
            "7     184.65\n",
            "10    161.46\n",
            "11    179.11\n",
            "13    186.54\n",
            "17    174.89\n",
            "18    181.56\n",
            "21    170.13\n",
            "22    161.92\n",
            "23    173.89\n",
            "24    169.23\n",
            "27    164.28\n",
            "28    156.83\n",
            "29    178.99\n",
            "Name: Height, dtype: float64\n",
            "0     176.54\n",
            "2     150.74\n",
            "3     193.27\n",
            "8     190.14\n",
            "9     166.98\n",
            "12    182.97\n",
            "14    180.21\n",
            "15    153.22\n",
            "16    169.77\n",
            "19    192.64\n",
            "20    163.45\n",
            "25    187.45\n",
            "26    190.56\n",
            "Name: Height, dtype: float64\n",
            "T-score calculated is: -1.2034182525811867\n",
            "T-score critical is:±2.048407141795244\n",
            "Mean of male height is: 171.42705882352942\n",
            "Mean of female height is: 176.76461538461538\n",
            "Standard deviation of male height is: 9.506123529537343\n",
            "Standard deviation of female height is: 14.753096632789003\n",
            "Fail to reject the null hypothesis. The sample mean is no signifantly different from the population mean\n"
          ]
        }
      ]
    },
    {
      "cell_type": "markdown",
      "source": [
        "#**F test**"
      ],
      "metadata": {
        "id": "D36bI9jM2tQl"
      }
    },
    {
      "cell_type": "code",
      "source": [
        "import pandas as pd\n",
        "from scipy.stats import f_oneway,f\n",
        "\n",
        "# Sample data\n",
        "data = {\n",
        "    \"Category\": [\"Low\", \"Medium\", \"High\", \"Low\", \"Medium\", \"High\", \"Low\", \"Medium\", \"High\"],\n",
        "    \"Scores\": [65, 70, 75, 60, 68, 78, 62, 69, 82]\n",
        "}\n",
        "\n",
        "# Creating DataFrame\n",
        "df = pd.DataFrame(data)\n",
        "\n",
        "# Extracting groups\n",
        "low_scores = df[df[\"Category\"] == \"Low\"][\"Scores\"]\n",
        "medium_scores = df[df[\"Category\"] == \"Medium\"][\"Scores\"]\n",
        "high_scores = df[df[\"Category\"] == \"High\"][\"Scores\"]\n",
        "\n",
        "# Number of groups\n",
        "t = 3  # Number of groups\n",
        "\n",
        "# Total number of observations\n",
        "n = len(df)\n",
        "\n",
        "# Degrees of freedom between and within groups\n",
        "df_between = t - 1\n",
        "df_within = n - t\n",
        "\n",
        "# Performing One-Way ANOVA\n",
        "f_statistic, _ = f_oneway(low_scores, medium_scores, high_scores)\n",
        "\n",
        "# Significance level\n",
        "alpha = 0.05\n",
        "\n",
        "# Critical F-value\n",
        "f_critical = f.ppf(1 - alpha, df_between, df_within)\n",
        "\n",
        "# Display results\n",
        "print(f\"F-Statistic: {f_statistic}\")\n",
        "print(f\"F-Critical Value: {f_critical}\")\n",
        "\n",
        "# Conclusion\n",
        "if f_statistic > f_critical:\n",
        "    print(\"Reject the null hypothesis: There are significant differences between the group means.\")\n",
        "else:\n",
        "    print(\"Fail to reject the null hypothesis: There are no significant differences between the group means.\")\n"
      ],
      "metadata": {
        "colab": {
          "base_uri": "https://localhost:8080/"
        },
        "id": "oy2WDNv92v0n",
        "outputId": "01ef4a32-e06e-4e5d-e41a-b9d7bdc661df"
      },
      "execution_count": null,
      "outputs": [
        {
          "output_type": "stream",
          "name": "stdout",
          "text": [
            "F-Statistic: 29.55932203389832\n",
            "F-Critical Value: 5.143252849784718\n",
            "Reject the null hypothesis: There are significant differences between the group means.\n"
          ]
        }
      ]
    },
    {
      "cell_type": "markdown",
      "source": [],
      "metadata": {
        "id": "gZiPKWXN2slY"
      }
    },
    {
      "cell_type": "markdown",
      "source": [],
      "metadata": {
        "id": "rGfBGkzBCyRx"
      }
    }
  ]
}