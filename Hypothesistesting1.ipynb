{
  "nbformat": 4,
  "nbformat_minor": 0,
  "metadata": {
    "colab": {
      "provenance": [],
      "authorship_tag": "ABX9TyM4Z6GaDkZI3MQFPjzWIZqx",
      "include_colab_link": true
    },
    "kernelspec": {
      "name": "python3",
      "display_name": "Python 3"
    },
    "language_info": {
      "name": "python"
    }
  },
  "cells": [
    {
      "cell_type": "markdown",
      "metadata": {
        "id": "view-in-github",
        "colab_type": "text"
      },
      "source": [
        "<a href=\"https://colab.research.google.com/github/SANDESHAHAHA/Data_Science/blob/main/Hypothesistesting1.ipynb\" target=\"_parent\"><img src=\"https://colab.research.google.com/assets/colab-badge.svg\" alt=\"Open In Colab\"/></a>"
      ]
    },
    {
      "cell_type": "code",
      "execution_count": null,
      "metadata": {
        "id": "s-H_oQ6b5Ro-",
        "outputId": "cd31b260-e982-4a4b-8129-0e79cc574f16",
        "colab": {
          "base_uri": "https://localhost:8080/",
          "height": 211
        }
      },
      "outputs": [
        {
          "output_type": "error",
          "ename": "NameError",
          "evalue": "name 'stats' is not defined",
          "traceback": [
            "\u001b[0;31m---------------------------------------------------------------------------\u001b[0m",
            "\u001b[0;31mNameError\u001b[0m                                 Traceback (most recent call last)",
            "\u001b[0;32m<ipython-input-1-6787699d3f22>\u001b[0m in \u001b[0;36m<cell line: 29>\u001b[0;34m()\u001b[0m\n\u001b[1;32m     27\u001b[0m \u001b[0malpha\u001b[0m \u001b[0;34m=\u001b[0m \u001b[0;36m0.05\u001b[0m\u001b[0;34m\u001b[0m\u001b[0;34m\u001b[0m\u001b[0m\n\u001b[1;32m     28\u001b[0m \u001b[0;34m\u001b[0m\u001b[0m\n\u001b[0;32m---> 29\u001b[0;31m \u001b[0mf_critical\u001b[0m \u001b[0;34m=\u001b[0m \u001b[0mstats\u001b[0m\u001b[0;34m.\u001b[0m\u001b[0mf\u001b[0m\u001b[0;34m.\u001b[0m\u001b[0mppf\u001b[0m\u001b[0;34m(\u001b[0m\u001b[0;36m1\u001b[0m \u001b[0;34m-\u001b[0m \u001b[0malpha\u001b[0m\u001b[0;34m,\u001b[0m \u001b[0mdf_between\u001b[0m\u001b[0;34m,\u001b[0m \u001b[0mdf_within\u001b[0m\u001b[0;34m)\u001b[0m\u001b[0;34m\u001b[0m\u001b[0;34m\u001b[0m\u001b[0m\n\u001b[0m\u001b[1;32m     30\u001b[0m \u001b[0;34m\u001b[0m\u001b[0m\n\u001b[1;32m     31\u001b[0m \u001b[0;31m# Display the F-statistic and F-critical value\u001b[0m\u001b[0;34m\u001b[0m\u001b[0;34m\u001b[0m\u001b[0m\n",
            "\u001b[0;31mNameError\u001b[0m: name 'stats' is not defined"
          ]
        }
      ],
      "source": [
        "import pandas as pd\n",
        "from scipy.stats import f, f_oneway\n",
        "\n",
        "data = {\n",
        "    \"Shipping Option\": [\"Standard\", \"Express\", \"Same-Day\", \"Standard\", \"Express\", \"Same-Day\",\"Standard\", \"Express\", \"Same-Day\"],\n",
        "    \"Purchase Amounts\": [50, 70, 90, 55, 75, 85, 60, 80, 95]\n",
        "}\n",
        "\n",
        "df = pd.DataFrame(data)\n",
        "\n",
        "standard_shipping = df[df[\"Shipping Option\"] == \"Standard\"][\"Purchase Amounts\"]\n",
        "express_shipping = df[df[\"Shipping Option\"] == \"Express\"][\"Purchase Amounts\"]\n",
        "same_day_shipping = df[df[\"Shipping Option\"] == \"Same-Day\"][\"Purchase Amounts\"]\n",
        "\n",
        "\n",
        "t = 3\n",
        "\n",
        "\n",
        "n = len(df)\n",
        "\n",
        "df_between = t - 1  # Degrees of freedom between groups\n",
        "df_within = n - t  # Degrees of freedom within groups\n",
        "\n",
        "f_statistic, _ = f_oneway(standard_shipping, express_shipping, same_day_shipping)\n",
        "\n",
        "\n",
        "alpha = 0.05\n",
        "\n",
        "f_critical = stats.f.ppf(1 - alpha, df_between, df_within)\n",
        "\n",
        "# Display the F-statistic and F-critical value\n",
        "print(f\"F-Statistic: {f_statistic}\")\n",
        "print(f\"F-Critical Value: {f_critical}\")\n",
        "\n",
        "# Conclusion\n",
        "if f_statistic > f_critical:\n",
        "    print(\"Reject the null hypothesis: There are significant differences between the group means.\")\n",
        "else:\n",
        "    print(\"Fail to reject the null hypothesis: There are no significant differences between the group means.\")\n"
      ]
    }
  ]
}