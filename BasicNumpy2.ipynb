{
  "nbformat": 4,
  "nbformat_minor": 0,
  "metadata": {
    "colab": {
      "provenance": [],
      "authorship_tag": "ABX9TyOhoNuBKlctAGGiYyv66DsH",
      "include_colab_link": true
    },
    "kernelspec": {
      "name": "python3",
      "display_name": "Python 3"
    },
    "language_info": {
      "name": "python"
    }
  },
  "cells": [
    {
      "cell_type": "markdown",
      "metadata": {
        "id": "view-in-github",
        "colab_type": "text"
      },
      "source": [
        "<a href=\"https://colab.research.google.com/github/SANDESHAHAHA/Data_Science/blob/main/BasicNumpy2.ipynb\" target=\"_parent\"><img src=\"https://colab.research.google.com/assets/colab-badge.svg\" alt=\"Open In Colab\"/></a>"
      ]
    },
    {
      "cell_type": "code",
      "execution_count": null,
      "metadata": {
        "colab": {
          "base_uri": "https://localhost:8080/"
        },
        "id": "qW73C_R-WzKe",
        "outputId": "bd01730f-33ed-4aca-c551-1ae5fc8ef847"
      },
      "outputs": [
        {
          "output_type": "stream",
          "name": "stdout",
          "text": [
            "0\n"
          ]
        }
      ],
      "source": [
        "from numpy import random\n",
        "x=random.randint(100)\n",
        "print(x)"
      ]
    },
    {
      "cell_type": "code",
      "source": [
        "from numpy import random\n",
        "x=random.rand()\n",
        "print(x)"
      ],
      "metadata": {
        "colab": {
          "base_uri": "https://localhost:8080/"
        },
        "id": "uFtB0Z8XW_JK",
        "outputId": "b3b7ce3f-962c-444a-a194-5dfba9b21fa7"
      },
      "execution_count": null,
      "outputs": [
        {
          "output_type": "stream",
          "name": "stdout",
          "text": [
            "[0.44421401 0.34054436 0.64671265]\n"
          ]
        }
      ]
    },
    {
      "cell_type": "code",
      "source": [
        "from numpy import random\n",
        "x=random.randint(100,size=(5))\n",
        "print(x)"
      ],
      "metadata": {
        "colab": {
          "base_uri": "https://localhost:8080/"
        },
        "id": "4PmiOTZHXc8N",
        "outputId": "93a5be1a-21a2-4287-b96d-1a84df1224df"
      },
      "execution_count": null,
      "outputs": [
        {
          "output_type": "stream",
          "name": "stdout",
          "text": [
            "[37 67  1 29 19]\n"
          ]
        }
      ]
    },
    {
      "cell_type": "code",
      "source": [
        "from numpy import random\n",
        "x=random.randint(100,size=(3,6))\n",
        "print(x)"
      ],
      "metadata": {
        "colab": {
          "base_uri": "https://localhost:8080/"
        },
        "id": "Z9yfYZsCXqwa",
        "outputId": "17463c01-851d-4f8b-987a-756b6125f3ea"
      },
      "execution_count": null,
      "outputs": [
        {
          "output_type": "stream",
          "name": "stdout",
          "text": [
            "[[49  8 72  2 86 54]\n",
            " [94 86 98  6 86 24]\n",
            " [48 19 42 63 34 40]]\n"
          ]
        }
      ]
    },
    {
      "cell_type": "code",
      "source": [
        "from numpy import random\n",
        "x=random.rand(3,5)\n",
        "print(x)"
      ],
      "metadata": {
        "colab": {
          "base_uri": "https://localhost:8080/"
        },
        "id": "vy27750iX1oT",
        "outputId": "0505d0a3-3733-44b6-cc06-24dd118b0d18"
      },
      "execution_count": null,
      "outputs": [
        {
          "output_type": "stream",
          "name": "stdout",
          "text": [
            "[[0.98996    0.7033211  0.60547748 0.11351083 0.03788998]\n",
            " [0.50399187 0.53065494 0.74713999 0.68120096 0.72020224]\n",
            " [0.44007219 0.09888644 0.68360834 0.78439722 0.19971659]]\n"
          ]
        }
      ]
    },
    {
      "cell_type": "code",
      "source": [
        "from numpy import random\n",
        "x=random.choice([3,4,5,6,7,9])\n",
        "print(x)"
      ],
      "metadata": {
        "colab": {
          "base_uri": "https://localhost:8080/"
        },
        "id": "XZ05B4AtYDUy",
        "outputId": "3696d916-07d9-4c1f-b487-381ce654cf01"
      },
      "execution_count": null,
      "outputs": [
        {
          "output_type": "stream",
          "name": "stdout",
          "text": [
            "4\n"
          ]
        }
      ]
    },
    {
      "cell_type": "code",
      "source": [
        "from numpy import random\n",
        "x=random.choice([2,4,5,6,7,4,3],size=(3,4))\n",
        "print(x)"
      ],
      "metadata": {
        "colab": {
          "base_uri": "https://localhost:8080/"
        },
        "id": "yvzhtqfhYR7y",
        "outputId": "12fb5d1f-62ab-402d-8cbb-572161570327"
      },
      "execution_count": null,
      "outputs": [
        {
          "output_type": "stream",
          "name": "stdout",
          "text": [
            "[[4 5 5 6]\n",
            " [2 3 6 7]\n",
            " [2 3 2 5]]\n"
          ]
        }
      ]
    },
    {
      "cell_type": "markdown",
      "source": [
        "Random Data Distribution\n"
      ],
      "metadata": {
        "id": "UJWB2O10Yvm-"
      }
    },
    {
      "cell_type": "code",
      "source": [
        "from numpy import random\n",
        "x=random.choice([1,2,3,4,5],p=[0.1,0.2,0.3,0.0,0.4],size=(5,5))\n",
        "print(x)"
      ],
      "metadata": {
        "id": "sa945yN2Yyx4",
        "colab": {
          "base_uri": "https://localhost:8080/"
        },
        "outputId": "b97639d2-d0ed-4b40-bf6b-0286310d64e4"
      },
      "execution_count": null,
      "outputs": [
        {
          "output_type": "stream",
          "name": "stdout",
          "text": [
            "[[3 2 3 2 3]\n",
            " [3 5 5 3 5]\n",
            " [2 3 1 3 3]\n",
            " [5 3 2 5 2]\n",
            " [3 5 3 5 2]]\n"
          ]
        }
      ]
    },
    {
      "cell_type": "code",
      "source": [
        "import numpy as np\n",
        "from numpy import random\n",
        "arr=np.array([1,2,3,6,4,5])\n",
        "random.shuffle(arr)\n",
        "print(arr)"
      ],
      "metadata": {
        "colab": {
          "base_uri": "https://localhost:8080/"
        },
        "id": "Kftk6wsubf2N",
        "outputId": "1fb65ba7-ec12-4948-f594-63f1073c93ab"
      },
      "execution_count": null,
      "outputs": [
        {
          "output_type": "stream",
          "name": "stdout",
          "text": [
            "[4 1 5 3 2 6]\n"
          ]
        }
      ]
    },
    {
      "cell_type": "code",
      "source": [
        "import numpy as np\n",
        "from numpy  import random\n",
        "arr=np.array([1,2,3,5,4])\n",
        "newarr=random.permutation(arr)\n",
        "print(newarr)"
      ],
      "metadata": {
        "colab": {
          "base_uri": "https://localhost:8080/"
        },
        "id": "Oswyi18ReVAE",
        "outputId": "0e5325a0-ff9e-4180-9740-bebb25f1292b"
      },
      "execution_count": null,
      "outputs": [
        {
          "output_type": "stream",
          "name": "stdout",
          "text": [
            "[1 5 3 2 4]\n"
          ]
        }
      ]
    },
    {
      "cell_type": "markdown",
      "source": [
        "Note : Shuffle changes to the original array and permutation makes a copy and returns a new array.\n"
      ],
      "metadata": {
        "id": "CUFvq-qHeqDj"
      }
    },
    {
      "cell_type": "code",
      "source": [],
      "metadata": {
        "id": "5BrDhNmcew-v"
      },
      "execution_count": null,
      "outputs": []
    },
    {
      "cell_type": "markdown",
      "source": [],
      "metadata": {
        "id": "OQ4d7-a_ep4B"
      }
    }
  ]
}